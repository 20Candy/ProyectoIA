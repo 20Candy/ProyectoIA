{
 "cells": [
  {
   "attachments": {},
   "cell_type": "markdown",
   "metadata": {},
   "source": [
    "# Proyecto Inteligencia Artificial\n",
    "Stefano Aragoni, Luis Diego Santos, Carol Arevalo\n",
    "\n",
    "______________________\n",
    "\n",
    "El objetivo del presente proyecto es detectar los tweets que puedan estar relacionados con cyberbulling. Para ello se descargo una base de datos de tweets del 2020. "
   ]
  },
  {
   "attachments": {},
   "cell_type": "markdown",
   "metadata": {},
   "source": [
    "---------------\n",
    "### Exploración y Limpieza de Datos\n",
    "Como primer paso, se importa el archivo a través de distintas librerías. "
   ]
  },
  {
   "cell_type": "code",
   "execution_count": 1,
   "metadata": {},
   "outputs": [
    {
     "name": "stderr",
     "output_type": "stream",
     "text": [
      "/var/folders/wq/gs7vpwkj7k31lw9njy09srjw0000gn/T/ipykernel_8505/2782784840.py:25: DeprecationWarning: `import pandas_profiling` is going to be deprecated by April 1st. Please use `import ydata_profiling` instead.\n",
      "  import pandas_profiling\n",
      "[nltk_data] Downloading package stopwords to\n",
      "[nltk_data]     /Users/stefanoaragoni/nltk_data...\n",
      "[nltk_data]   Package stopwords is already up-to-date!\n",
      "[nltk_data] Downloading package punkt to\n",
      "[nltk_data]     /Users/stefanoaragoni/nltk_data...\n",
      "[nltk_data]   Package punkt is already up-to-date!\n"
     ]
    }
   ],
   "source": [
    "import numpy as np\n",
    "import pandas as pd\n",
    "import seaborn as sns\n",
    "import matplotlib.pyplot as plt\n",
    "from collections import Counter\n",
    "from tqdm import tqdm\n",
    "import re\n",
    "\n",
    "from sklearn import datasets\n",
    "from sklearn.feature_extraction.text import CountVectorizer\n",
    "from sklearn.preprocessing import LabelEncoder, OneHotEncoder\n",
    "from sklearn.model_selection import train_test_split, cross_val_score, GridSearchCV, StratifiedKFold\n",
    "from sklearn.metrics import confusion_matrix, accuracy_score, classification_report\n",
    "from sklearn.linear_model import LogisticRegression\n",
    "from sklearn.tree import DecisionTreeClassifier\n",
    "from sklearn.neighbors import KNeighborsClassifier\n",
    "from sklearn.discriminant_analysis import LinearDiscriminantAnalysis\n",
    "from sklearn.naive_bayes import MultinomialNB, GaussianNB\n",
    "from sklearn.svm import SVC\n",
    "\n",
    "from nltk.stem import SnowballStemmer\n",
    "from copy import deepcopy\n",
    "\n",
    "from pandas.plotting import scatter_matrix\n",
    "import pandas_profiling\n",
    "\n",
    "from prettytable import PrettyTable\n",
    "\n",
    "import nltk\n",
    "nltk.download('stopwords')\n",
    "nltk.download('punkt')\n",
    "from nltk.corpus import stopwords"
   ]
  },
  {
   "cell_type": "code",
   "execution_count": 2,
   "metadata": {},
   "outputs": [],
   "source": [
    "#cargar dataset\n",
    "data = pd.read_csv('cyberbullying_tweets_clean.csv')"
   ]
  },
  {
   "cell_type": "code",
   "execution_count": 3,
   "metadata": {},
   "outputs": [
    {
     "data": {
      "text/html": [
       "<div>\n",
       "<style scoped>\n",
       "    .dataframe tbody tr th:only-of-type {\n",
       "        vertical-align: middle;\n",
       "    }\n",
       "\n",
       "    .dataframe tbody tr th {\n",
       "        vertical-align: top;\n",
       "    }\n",
       "\n",
       "    .dataframe thead th {\n",
       "        text-align: right;\n",
       "    }\n",
       "</style>\n",
       "<table border=\"1\" class=\"dataframe\">\n",
       "  <thead>\n",
       "    <tr style=\"text-align: right;\">\n",
       "      <th></th>\n",
       "      <th>tweet_text</th>\n",
       "      <th>cyberbullying_type</th>\n",
       "    </tr>\n",
       "  </thead>\n",
       "  <tbody>\n",
       "    <tr>\n",
       "      <th>0</th>\n",
       "      <td>In other words #katandandre, your food was cra...</td>\n",
       "      <td>not_cyberbullying</td>\n",
       "    </tr>\n",
       "    <tr>\n",
       "      <th>1</th>\n",
       "      <td>Why is #aussietv so white? #MKR #theblock #ImA...</td>\n",
       "      <td>not_cyberbullying</td>\n",
       "    </tr>\n",
       "    <tr>\n",
       "      <th>2</th>\n",
       "      <td>@XochitlSuckkks a classy whore? Or more red ve...</td>\n",
       "      <td>not_cyberbullying</td>\n",
       "    </tr>\n",
       "    <tr>\n",
       "      <th>3</th>\n",
       "      <td>@Jason_Gio meh. :P  thanks for the heads up, b...</td>\n",
       "      <td>not_cyberbullying</td>\n",
       "    </tr>\n",
       "    <tr>\n",
       "      <th>4</th>\n",
       "      <td>@RudhoeEnglish This is an ISIS account pretend...</td>\n",
       "      <td>not_cyberbullying</td>\n",
       "    </tr>\n",
       "  </tbody>\n",
       "</table>\n",
       "</div>"
      ],
      "text/plain": [
       "                                          tweet_text cyberbullying_type\n",
       "0  In other words #katandandre, your food was cra...  not_cyberbullying\n",
       "1  Why is #aussietv so white? #MKR #theblock #ImA...  not_cyberbullying\n",
       "2  @XochitlSuckkks a classy whore? Or more red ve...  not_cyberbullying\n",
       "3  @Jason_Gio meh. :P  thanks for the heads up, b...  not_cyberbullying\n",
       "4  @RudhoeEnglish This is an ISIS account pretend...  not_cyberbullying"
      ]
     },
     "execution_count": 3,
     "metadata": {},
     "output_type": "execute_result"
    }
   ],
   "source": [
    "# Imprimir las primeras 5 filas\n",
    "data.head()"
   ]
  },
  {
   "cell_type": "code",
   "execution_count": 4,
   "metadata": {},
   "outputs": [
    {
     "data": {
      "text/html": [
       "<div>\n",
       "<style scoped>\n",
       "    .dataframe tbody tr th:only-of-type {\n",
       "        vertical-align: middle;\n",
       "    }\n",
       "\n",
       "    .dataframe tbody tr th {\n",
       "        vertical-align: top;\n",
       "    }\n",
       "\n",
       "    .dataframe thead th {\n",
       "        text-align: right;\n",
       "    }\n",
       "</style>\n",
       "<table border=\"1\" class=\"dataframe\">\n",
       "  <thead>\n",
       "    <tr style=\"text-align: right;\">\n",
       "      <th></th>\n",
       "      <th>tweet_text</th>\n",
       "      <th>cyberbullying_type</th>\n",
       "    </tr>\n",
       "  </thead>\n",
       "  <tbody>\n",
       "    <tr>\n",
       "      <th>39864</th>\n",
       "      <td>Black ppl aren't expected to do anything, depe...</td>\n",
       "      <td>ethnicity</td>\n",
       "    </tr>\n",
       "    <tr>\n",
       "      <th>39865</th>\n",
       "      <td>Turner did not withhold his disappointment. Tu...</td>\n",
       "      <td>ethnicity</td>\n",
       "    </tr>\n",
       "    <tr>\n",
       "      <th>39866</th>\n",
       "      <td>I swear to God. This dumb nigger bitch. I have...</td>\n",
       "      <td>ethnicity</td>\n",
       "    </tr>\n",
       "    <tr>\n",
       "      <th>39867</th>\n",
       "      <td>Yea fuck you RT @therealexel: IF YOURE A NIGGE...</td>\n",
       "      <td>ethnicity</td>\n",
       "    </tr>\n",
       "    <tr>\n",
       "      <th>39868</th>\n",
       "      <td>Bro. U gotta chill RT @CHILLShrammy: Dog FUCK ...</td>\n",
       "      <td>ethnicity</td>\n",
       "    </tr>\n",
       "  </tbody>\n",
       "</table>\n",
       "</div>"
      ],
      "text/plain": [
       "                                              tweet_text cyberbullying_type\n",
       "39864  Black ppl aren't expected to do anything, depe...          ethnicity\n",
       "39865  Turner did not withhold his disappointment. Tu...          ethnicity\n",
       "39866  I swear to God. This dumb nigger bitch. I have...          ethnicity\n",
       "39867  Yea fuck you RT @therealexel: IF YOURE A NIGGE...          ethnicity\n",
       "39868  Bro. U gotta chill RT @CHILLShrammy: Dog FUCK ...          ethnicity"
      ]
     },
     "execution_count": 4,
     "metadata": {},
     "output_type": "execute_result"
    }
   ],
   "source": [
    "# Imprimir las últimas 5 filas\n",
    "data.tail()"
   ]
  },
  {
   "attachments": {},
   "cell_type": "markdown",
   "metadata": {},
   "source": [
    "##### Datos Faltantes\n",
    "En este caso, primero se analizó si hacían falta datos en el dataset. En este caso, todos los datos estaban almacenados y no habían datos fuera de lugar."
   ]
  },
  {
   "cell_type": "code",
   "execution_count": 5,
   "metadata": {},
   "outputs": [
    {
     "data": {
      "text/plain": [
       "Index([], dtype='object')"
      ]
     },
     "execution_count": 5,
     "metadata": {},
     "output_type": "execute_result"
    },
    {
     "data": {
      "image/png": "[encoded data removed]",
      "text/plain": [
       "<Figure size 640x480 with 1 Axes>"
      ]
     },
     "metadata": {},
     "output_type": "display_data"
    }
   ],
   "source": [
    "# Matriz de datos faltantes\n",
    "sns.heatmap(data.isnull(), cbar=False)\n",
    "\n",
    "# Mostrar columnas con datos faltantes, o con datos fuera de lugar (como un string en columna numérica)\n",
    "data.columns[data.isnull().any()]"
   ]
  },
  {
   "attachments": {},
   "cell_type": "markdown",
   "metadata": {
    "notebookRunGroups": {
     "groupValue": "1"
    }
   },
   "source": [
    "##### Datos Duplicados\n",
    "Se buscaron datos dupllicados para eliminarlos y tener un modelo más exacto.\n"
   ]
  },
  {
   "cell_type": "code",
   "execution_count": 6,
   "metadata": {},
   "outputs": [
    {
     "data": {
      "text/plain": [
       "59"
      ]
     },
     "execution_count": 6,
     "metadata": {},
     "output_type": "execute_result"
    }
   ],
   "source": [
    "data['tweet_text'] = data['tweet_text'].str.lower()\n",
    "\n",
    "#verificar datos duplicados\n",
    "data.duplicated().sum()"
   ]
  },
  {
   "cell_type": "code",
   "execution_count": 7,
   "metadata": {},
   "outputs": [
    {
     "data": {
      "text/plain": [
       "0"
      ]
     },
     "execution_count": 7,
     "metadata": {},
     "output_type": "execute_result"
    }
   ],
   "source": [
    "#eliminar datos duplicados\n",
    "data.drop_duplicates(inplace=True)\n",
    "data.duplicated().sum()"
   ]
  },
  {
   "attachments": {},
   "cell_type": "markdown",
   "metadata": {},
   "source": [
    "##### Distribución de clases\n",
    "Este tipo de análisis es útil para obtener una mejor comprensión de la distribución de los diferentes tipos de ciberacoso en los datos y para identificar los tipos de ciberacoso más comunes en un conjunto de datos."
   ]
  },
  {
   "cell_type": "code",
   "execution_count": 8,
   "metadata": {},
   "outputs": [
    {
     "name": "stdout",
     "output_type": "stream",
     "text": [
      "religion             7994\n",
      "age                  7979\n",
      "ethnicity            7953\n",
      "gender               7947\n",
      "not_cyberbullying    7937\n",
      "Name: cyberbullying_type, dtype: int64\n"
     ]
    }
   ],
   "source": [
    "# Contar la frecuencia de cada valor único en la columna \"cyberbullying_type\"\n",
    "frecuencias = data['cyberbullying_type'].value_counts()\n",
    "\n",
    "# Mostrar los resultados\n",
    "print(frecuencias)"
   ]
  },
  {
   "cell_type": "code",
   "execution_count": 9,
   "metadata": {},
   "outputs": [
    {
     "data": {
      "image/png": "[encoded data removed]",
      "text/plain": [
       "<Figure size 640x480 with 1 Axes>"
      ]
     },
     "metadata": {},
     "output_type": "display_data"
    }
   ],
   "source": [
    "# Create a bar plot of the class distribution\n",
    "class_counts = data['cyberbullying_type'].value_counts()\n",
    "class_counts.plot(kind='bar')\n",
    "plt.title('Class Distribution of Cyberbullying Types')\n",
    "plt.xlabel('Labels')\n",
    "plt.ylabel('Number of Tweets')\n",
    "plt.show()"
   ]
  },
  {
   "attachments": {},
   "cell_type": "markdown",
   "metadata": {},
   "source": [
    "En este caso, se puede comprobar que los datos están balanceados."
   ]
  },
  {
   "attachments": {},
   "cell_type": "markdown",
   "metadata": {},
   "source": [
    "--------\n",
    "### Preprocesamiento de Datos\n",
    "#### Conteo de palabras \n",
    "A continuacion se hace un analisis de las palabras mas comunes de la base de datos. "
   ]
  },
  {
   "cell_type": "code",
   "execution_count": 10,
   "metadata": {},
   "outputs": [
    {
     "name": "stderr",
     "output_type": "stream",
     "text": [
      "100%|██████████| 39810/39810 [00:08<00:00, 4679.82it/s]\n"
     ]
    }
   ],
   "source": [
    "# Remover URLs, menciones y hashtags\n",
    "new_tweets = []\n",
    "new_types = []\n",
    "\n",
    "def remove_urls_mentions_hashtags(text, type):\n",
    "    text = re.sub(r'http\\S+', '', text) # URLs\n",
    "    text = re.sub(r'@\\S+', '', text) # Menciones\n",
    "    text = re.sub(r'#\\S+', '', text) # Hashtags\n",
    "\n",
    "    text = re.sub('<.*?>', '', text) # HTML tags\n",
    "    text = re.sub('[^a-zA-Z]', ' ', text) # Puntuación y números\n",
    "\n",
    "    stop_words = set(stopwords.words('english'))\n",
    "    text = ' '.join([word for word in text.split() if word not in stop_words])\n",
    "\n",
    "    return text, type\n",
    "\n",
    "for i in tqdm(range(len(data))):\n",
    "    try:\n",
    "        text, type = remove_urls_mentions_hashtags(data['tweet_text'][i], data['cyberbullying_type'][i])\n",
    "        new_tweets.append(text)\n",
    "        new_types.append(type)\n",
    "    except:\n",
    "        pass\n",
    "\n",
    "data = pd.DataFrame({\n",
    "    'tweet_text': new_tweets,\n",
    "    'cyberbullying_type': new_types\n",
    "})"
   ]
  },
  {
   "cell_type": "code",
   "execution_count": 11,
   "metadata": {},
   "outputs": [
    {
     "data": {
      "text/plain": [
       "[('school', 8795),\n",
       " ('fuck', 5711),\n",
       " ('like', 5427),\n",
       " ('dumb', 5323),\n",
       " ('high', 5218),\n",
       " ('bullied', 4489),\n",
       " ('people', 4462),\n",
       " ('rape', 4408),\n",
       " ('nigger', 4407),\n",
       " ('u', 4199)]"
      ]
     },
     "execution_count": 11,
     "metadata": {},
     "output_type": "execute_result"
    }
   ],
   "source": [
    "# Frecuencia de cada palabra\n",
    "tweets = ' '.join(data['tweet_text'].values)\n",
    "words = tweets.split()\n",
    "\n",
    "frecuencia = Counter(words).most_common(10)\n",
    "\n",
    "frecuencia"
   ]
  },
  {
   "cell_type": "code",
   "execution_count": 12,
   "metadata": {},
   "outputs": [
    {
     "data": {
      "image/png": "[encoded data removed]",
      "text/plain": [
       "<Figure size 640x480 with 1 Axes>"
      ]
     },
     "metadata": {},
     "output_type": "display_data"
    }
   ],
   "source": [
    "# diagrama de barras\n",
    "plt.bar(*zip(*frecuencia))\n",
    "plt.title('Top palabras más frecuentes')\n",
    "plt.xlabel('Palabras')\n",
    "plt.ylabel('Frecuencia')\n",
    "plt.show()"
   ]
  },
  {
   "attachments": {},
   "cell_type": "markdown",
   "metadata": {},
   "source": [
    "#### Preparación de datos para modelos\n",
    "\n",
    "Ya que se realizó la limpieza del dataset, así como en análisis de las palabras más comunes... se procede a realizar el modelo de Machine Learning.\n",
    "\n",
    "En este caso, se estará utilizando 2 modelos. Uno de Cyberbullying o no, y otro del tipo de cyberbullying. A continuación se muestra la distribución de clases para cada uno de ellos."
   ]
  },
  {
   "cell_type": "code",
   "execution_count": 13,
   "metadata": {},
   "outputs": [
    {
     "name": "stdout",
     "output_type": "stream",
     "text": [
      "\n",
      "Modelo 1: Cyberbullying vs. Not Cyberbullying\n",
      "\n",
      "not_cyberbullying    7937\n",
      "cyberbullying        7936\n",
      "Name: cyberbullying_type, dtype: int64\n"
     ]
    }
   ],
   "source": [
    "modelo1 = data.__deepcopy__()\n",
    "modelo2 = data.__deepcopy__()\n",
    "\n",
    "# Modelo 1: Cyberbullying vs. Not Cyberbullying\n",
    "\n",
    "# Separate `not_cyberbullying` and `cyberbullying` data\n",
    "not_cyberbullying = modelo1[modelo1['cyberbullying_type'] == 'not_cyberbullying']\n",
    "age = modelo1[modelo1['cyberbullying_type'] == 'age']\n",
    "gender = modelo1[modelo1['cyberbullying_type'] == 'gender']\n",
    "religion = modelo1[modelo1['cyberbullying_type'] == 'religion']\n",
    "ethnicity = modelo1[modelo1['cyberbullying_type'] == 'ethnicity']\n",
    "\n",
    "sample_size = int(len(not_cyberbullying)/4)\n",
    "sampled_age = age.sample(n=sample_size, replace=True, random_state=42)\n",
    "sampled_gender = gender.sample(n=sample_size, replace=True, random_state=42)\n",
    "sampled_religion = religion.sample(n=sample_size, replace=True, random_state=42)\n",
    "sampled_ethnicity = ethnicity.sample(n=sample_size, replace=True, random_state=42)\n",
    "\n",
    "# Combine `sampled_cyberbullying` and `not_cyberbullying` data to create a new balanced dataframe\n",
    "modelo1 = pd.concat([not_cyberbullying, sampled_gender, sampled_age, sampled_ethnicity, sampled_religion])\n",
    "\n",
    "# Remplazar label age, gender, religion, ethnicity por bullying\n",
    "modelo1['cyberbullying_type'] = modelo1['cyberbullying_type'].replace(['age', 'gender', 'religion', 'ethnicity'], 'cyberbullying')\n",
    "\n",
    "# Contar la frecuencia de cada valor único en la columna \"cyberbullying_type\"\n",
    "frecuencias = modelo1['cyberbullying_type'].value_counts()\n",
    "\n",
    "# Mostrar los resultados\n",
    "print(\"\\nModelo 1: Cyberbullying vs. Not Cyberbullying\\n\")\n",
    "print(frecuencias)"
   ]
  },
  {
   "cell_type": "code",
   "execution_count": 14,
   "metadata": {},
   "outputs": [
    {
     "name": "stdout",
     "output_type": "stream",
     "text": [
      "\n",
      "Modelo 2: Cyberbullying Type\n",
      "\n",
      "religion     7994\n",
      "age          7979\n",
      "gender       7947\n",
      "ethnicity    7894\n",
      "Name: cyberbullying_type, dtype: int64\n"
     ]
    }
   ],
   "source": [
    "# Modelo 2: Tipos de Cyberbullying\n",
    "\n",
    "# Separate `not_cyberbullying` and `cyberbullying` data\n",
    "age = modelo2[modelo2['cyberbullying_type'] == 'age']\n",
    "gender = modelo2[modelo2['cyberbullying_type'] == 'gender']\n",
    "religion = modelo2[modelo2['cyberbullying_type'] == 'religion']\n",
    "ethnicity = modelo2[modelo2['cyberbullying_type'] == 'ethnicity']\n",
    "\n",
    "# Combine `sampled_cyberbullying` and `not_cyberbullying` data to create a new balanced dataframe\n",
    "modelo2 = pd.concat([gender, age, ethnicity, religion])\n",
    "\n",
    "# Contar la frecuencia de cada valor único en la columna \"cyberbullying_type\"\n",
    "frecuencias = modelo2['cyberbullying_type'].value_counts()\n",
    "\n",
    "# Mostrar los resultados\n",
    "print(\"\\nModelo 2: Cyberbullying Type\\n\")\n",
    "print(frecuencias)"
   ]
  },
  {
   "attachments": {},
   "cell_type": "markdown",
   "metadata": {},
   "source": [
    "-----------\n",
    "## Creación de Modelos\n",
    "\n",
    "En este caso, como primer punto se separó el dataset en tres partes: una para entrenamiento, otra para validación y otra para prueba.\n",
    "\n",
    "Con esto en mente, se busca poder generar diferentes modelos para poder compararlos y ver cual es el que mejor se ajusta a los datos. Primero se utilizó el set de validación para, a través de GridSearchCV encontrar los mejores parametros. Posteriormente, en creación de modelos se utilizó 80% de los datos para la generación de los mismos. \n",
    "\n",
    "Finalmente, se utilizó otro 10% para verificar el funcionamiento correcto de los modelos generados. \n"
   ]
  },
  {
   "cell_type": "code",
   "execution_count": 15,
   "metadata": {},
   "outputs": [],
   "source": [
    "vectorizer1 = CountVectorizer()\n",
    "X1 = vectorizer1.fit_transform(modelo1['tweet_text']).toarray()\n",
    "y1 = modelo1['cyberbullying_type']\n",
    "\n",
    "vectorizer2 = CountVectorizer()\n",
    "X2 = vectorizer2.fit_transform(modelo2['tweet_text']).toarray()\n",
    "y2 = modelo2['cyberbullying_type']\n"
   ]
  },
  {
   "cell_type": "code",
   "execution_count": 16,
   "metadata": {},
   "outputs": [],
   "source": [
    "# Split modelo1 into train, validation and test sets with a 80-10-10 ratio\n",
    "X_train1, X_test1, y_train1, y_test1 = train_test_split(X1, y1, test_size=0.2, random_state=42)\n",
    "X_val1, X_test1, y_val1, y_test1 = train_test_split(X_test1, y_test1, test_size=0.5, random_state=42)\n",
    "\n",
    "# Split modelo2 into train, validation and test sets with a 80-10-10 ratio\n",
    "X_train2, X_test2, y_train2, y_test2 = train_test_split(X2, y2, test_size=0.2, random_state=42)\n",
    "X_val2, X_test2, y_val2, y_test2 = train_test_split(X_test2, y_test2, test_size=0.5, random_state=42)\n",
    "\n",
    "\n",
    "best_models1 = []\n",
    "best_models2 = []"
   ]
  },
  {
   "attachments": {},
   "cell_type": "markdown",
   "metadata": {},
   "source": [
    "### Regresion Logistica"
   ]
  },
  {
   "cell_type": "code",
   "execution_count": 17,
   "metadata": {},
   "outputs": [
    {
     "name": "stdout",
     "output_type": "stream",
     "text": [
      "Regresion Logistica (Bullying vs. Not Bullying):  0.9219143576826196 \n",
      "\n"
     ]
    }
   ],
   "source": [
    "# Modelo1: Cyberbullying vs. Not Cyberbullying\n",
    "param_grid = {\n",
    "    'C': [0.1, 1],\n",
    "    'max_iter': [1000],\n",
    "}\n",
    "\n",
    "lr = LogisticRegression()\n",
    "clf = GridSearchCV(lr, param_grid, cv=5)\n",
    "clf.fit(X_val1, y_val1)\n",
    "\n",
    "best_lr1 = LogisticRegression(**clf.best_params_)\n",
    "best_lr1.fit(X_train1, y_train1)\n",
    "\n",
    "accuracy = accuracy_score(y_test1, best_lr1.predict(X_test1))\n",
    "best_models1.append(('Logistic Regression M1', clf.best_params_, accuracy))\n",
    "\n",
    "print(\"Regresion Logistica (Bullying vs. Not Bullying): \", accuracy, \"\\n\")"
   ]
  },
  {
   "cell_type": "code",
   "execution_count": 18,
   "metadata": {},
   "outputs": [
    {
     "name": "stdout",
     "output_type": "stream",
     "text": [
      "                   precision    recall  f1-score   support\n",
      "\n",
      "    cyberbullying       0.95      0.90      0.92       792\n",
      "not_cyberbullying       0.90      0.95      0.92       796\n",
      "\n",
      "         accuracy                           0.92      1588\n",
      "        macro avg       0.92      0.92      0.92      1588\n",
      "     weighted avg       0.92      0.92      0.92      1588\n",
      "\n"
     ]
    }
   ],
   "source": [
    "# Matrix and classification report\n",
    "print(classification_report(y_test1, best_lr1.predict(X_test1)))"
   ]
  },
  {
   "cell_type": "code",
   "execution_count": 19,
   "metadata": {},
   "outputs": [
    {
     "name": "stdout",
     "output_type": "stream",
     "text": [
      "Regresion Logistica (Type of Bullying) :  0.9817724701445631 \n",
      "\n"
     ]
    }
   ],
   "source": [
    "lr = LogisticRegression()\n",
    "clf = GridSearchCV(lr, param_grid, cv=5)\n",
    "clf.fit(X_val2, y_val2)\n",
    "\n",
    "best_lr2 = LogisticRegression(**clf.best_params_)\n",
    "best_lr2.fit(X_train2, y_train2)\n",
    "\n",
    "accuracy = accuracy_score(y_test2, best_lr2.predict(X_test2))\n",
    "best_models2.append(('Logistic Regression M2', clf.best_params_, accuracy))\n",
    "\n",
    "print(\"Regresion Logistica (Type of Bullying) : \", accuracy, \"\\n\")"
   ]
  },
  {
   "cell_type": "code",
   "execution_count": 20,
   "metadata": {},
   "outputs": [
    {
     "name": "stdout",
     "output_type": "stream",
     "text": [
      "              precision    recall  f1-score   support\n",
      "\n",
      "         age       0.99      0.99      0.99       817\n",
      "   ethnicity       0.99      0.98      0.99       795\n",
      "      gender       0.96      0.98      0.97       801\n",
      "    religion       0.99      0.97      0.98       769\n",
      "\n",
      "    accuracy                           0.98      3182\n",
      "   macro avg       0.98      0.98      0.98      3182\n",
      "weighted avg       0.98      0.98      0.98      3182\n",
      "\n"
     ]
    }
   ],
   "source": [
    "# Matrix and classification report\n",
    "print(classification_report(y_test2, best_lr2.predict(X_test2)))"
   ]
  }
 ],
 "metadata": {
  "kernelspec": {
   "display_name": "Python 3",
   "language": "python",
   "name": "python3"
  },
  "language_info": {
   "codemirror_mode": {
    "name": "ipython",
    "version": 3
   },
   "file_extension": ".py",
   "mimetype": "text/x-python",
   "name": "python",
   "nbconvert_exporter": "python",
   "pygments_lexer": "ipython3",
   "version": "3.9.2"
  },
  "orig_nbformat": 4
 },
 "nbformat": 4,
 "nbformat_minor": 2
}
